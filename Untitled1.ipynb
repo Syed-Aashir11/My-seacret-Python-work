{
 "cells": [
  {
   "cell_type": "code",
   "execution_count": 1,
   "id": "abroad-denver",
   "metadata": {},
   "outputs": [
    {
     "ename": "IndentationError",
     "evalue": "unexpected indent (<ipython-input-1-11fc8eda4ce8>, line 37)",
     "output_type": "error",
     "traceback": [
      "\u001b[1;36m  File \u001b[1;32m\"<ipython-input-1-11fc8eda4ce8>\"\u001b[1;36m, line \u001b[1;32m37\u001b[0m\n\u001b[1;33m    messagebox.showinfo( c.imshow(\" Aston Martin Vanquish \",img4)  )\u001b[0m\n\u001b[1;37m    ^\u001b[0m\n\u001b[1;31mIndentationError\u001b[0m\u001b[1;31m:\u001b[0m unexpected indent\n"
     ]
    }
   ],
   "source": [
    "# How to add buttons and labels at same time with clickable option\n",
    "import tkinter as tk\n",
    "from tkinter import *\n",
    "#creat instance\n",
    "win=Tk()\n",
    "# add label method 2\n",
    "mylabel=tk.Label(win, text=\"guess the number 10\")\n",
    "mylabel.grid(column=0 ,row=0)\n",
    "# button function\n",
    "def click_me():\n",
    "    btn.configure(text=\"winner\")\n",
    "    mylabel.configure(foreground='blue')\n",
    "    mylabel.configure(text=\"10\")\n",
    "def click_me2():\n",
    "    btn2.configure(text=\"looser\")\n",
    "    mylabel.configure(foreground='green')\n",
    "    mylabel.configure(text=\"9\")\n",
    "def click_me3():\n",
    "    btn3.configure(text=\"looser\")\n",
    "    mylabel.configure(foreground='yellow')\n",
    "    mylabel.configure(text=\"8\")\n",
    "def click_me4():\n",
    "    btn3.configure(text=\"looser\")\n",
    "    mylabel.configure(foreground='orange')\n",
    "    mylabel.configure(text=\"100\")     \n",
    "    \n",
    "# adding a button    \n",
    "btn= tk.Button(win, text=\"guess 10\", command=click_me)    \n",
    "btn.grid(column=0, row=1)\n",
    "btn2= tk.Button(win, text=\"guess 10\", command=click_me2)    \n",
    "btn2.grid(column=0, row=2)\n",
    "btn3= tk.Button(win, text=\"guess 10\", command=click_me3)    \n",
    "btn3.grid(column=0, row=3)\n",
    "btn4= tk.Button(win, text=\"guess 10\", command=click_me4)    \n",
    "btn4.grid(column=0, row=4)\n",
    "win.mainloop()\n",
    " messagebox.showinfo( c.imshow(\" Aston Martin Vanquish \",img4)  )\n",
    "def b():\n",
    " messagebox.showinfo( c.imshow(\"  Chevy Corvette \",img5)  )\n",
    "    \n",
    "def a():\n",
    " messagebox.showinfo(c.imshow(\"   Maserati Quattroporte \",img6)  )\n",
    "\n",
    "B1 = Button(top, text = \"Ferrari Enzo\", command = Tri,bg = \"#ff5100\" , font = (\"sansserif 20 bold\"))\n",
    "B1.place(x=35, y=100)\n",
    "\n",
    "B2 = Button(top, text = \"Lambo Murcielago\", command = T,bg = \"#ff5100\" , font = (\"sansserif 20 bold\"))\n",
    "B2.place(x=535, y=100)\n",
    "\n",
    "B3 = Button(top, text = \"Rolls-Royce Phantom\", command = St,bg = \"#ff5100\" , font = (\"sansserif 20 bold\"))\n",
    "B3.place(x=990, y=100)\n",
    "\n",
    "B4 = Button(top, text = \"Aston Martin Vanquish\", command = Sp,bg = \"#ff5100\" , font = (\"sansserif 20 bold\"))\n",
    "B4.place(x=35, y=500)\n",
    "\n",
    "B5 = Button(top, text = \"Chevy Corvette\", command = b,bg = \"#ff5100\" , font = (\"sansserif 20 bold\"))\n",
    "B5.place(x=535, y=500)\n",
    "\n",
    "B6 = Button(top, text = \"Maserati Quattroporte\", command = a,bg = \"#ff5100\" , font = (\"sansserif 20 bold\"))\n",
    "B6.place(x=990, y=500)\n",
    "    \n",
    "top.mainloop()"
   ]
  },
  {
   "cell_type": "code",
   "execution_count": null,
   "id": "lasting-royal",
   "metadata": {},
   "outputs": [],
   "source": []
  }
 ],
 "metadata": {
  "kernelspec": {
   "display_name": "Python 3",
   "language": "python",
   "name": "python3"
  },
  "language_info": {
   "codemirror_mode": {
    "name": "ipython",
    "version": 3
   },
   "file_extension": ".py",
   "mimetype": "text/x-python",
   "name": "python",
   "nbconvert_exporter": "python",
   "pygments_lexer": "ipython3",
   "version": "3.8.7"
  }
 },
 "nbformat": 4,
 "nbformat_minor": 5
}
